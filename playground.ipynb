{
 "cells": [
  {
   "cell_type": "code",
   "execution_count": 71,
   "metadata": {},
   "outputs": [],
   "source": [
    "import argparse\n",
    "from small_text.classifiers import ConfidenceEnhancedLinearSVC, SklearnClassifier\n",
    "from small_text.data import SklearnDataset\n",
    "from small_text.classifiers.factories import SklearnClassifierFactory\n",
    "from preprocess import data_loader, preprocess_data_sklearn_train, preprocess_data_sklearn_test, df_to_dict\n",
    "from learner_functions import run_multiple_experiments\n",
    "import random\n",
    "import json\n",
    "import numpy as np\n",
    "from sklearn.metrics import f1_score\n"
   ]
  },
  {
   "cell_type": "code",
   "execution_count": 65,
   "metadata": {},
   "outputs": [],
   "source": [
    "def parse_args():\n",
    "    parser=argparse.ArgumentParser(description=\"Supervised Learning Experiment Runner with SkLearn Integration\")\n",
    "    parser.add_argument('--method', type = str, metavar =\"\", default = 'SL', help=\"Supervised == SL or Active == AL\")\n",
    "    parser.add_argument('--framework', type = str, metavar =\"\", default = 'SK', help=\"Transformers == TF or SkLearn == SK\")\n",
    "    parser.add_argument('--datadir', type = str, metavar =\"\",default = './data/', help=\"Path to directory with data files\")\n",
    "    parser.add_argument('--dataset', type = str, metavar =\"\",default = 'wiki', help=\"Name of dataset\")\n",
    "    parser.add_argument('--outdir', type = str, metavar =\"\",default = './results/', help=\"Path to output directory for storing results\")\n",
    "    parser.add_argument('--sklearn_model', type = str, metavar =\"\",default = 'ConfidenceEnhancedLinearSVC', help=\"Name of SkLearn model\")\n",
    "    parser.add_argument('--class_imbalance', type = int, metavar =\"\", default = 50, help = 'Class imbalance desired in train dataset')\n",
    "    parser.add_argument('--train_n', type = int, metavar =\"\", default = 20000, help = 'Total number of training examples')\n",
    "    parser.add_argument('--test_n', type = int, metavar =\"\", default = 5000, help = 'Total number of testing examples')\n",
    "    parser.add_argument('--run_n', type = int, metavar =\"\", default = 5, help = 'Number of times to run each model')\n",
    "    args=parser.parse_args()\n",
    "    print(\"the inputs are:\")\n",
    "    for arg in vars(args):\n",
    "        print(\"{} is {}\".format(arg, getattr(args, arg)))\n",
    "    return args"
   ]
  },
  {
   "cell_type": "code",
   "execution_count": 66,
   "metadata": {},
   "outputs": [
    {
     "name": "stdout",
     "output_type": "stream",
     "text": [
      "the inputs are:\n",
      "method is SL\n",
      "framework is /Users/raymond/Library/Jupyter/runtime/kernel-v2-74393Lk9O4Bxpvbp.json\n",
      "datadir is ./data/\n",
      "dataset is wiki\n",
      "outdir is ./results/\n",
      "sklearn_model is ConfidenceEnhancedLinearSVC\n",
      "class_imbalance is 50\n",
      "train_n is 20000\n",
      "test_n is 5000\n",
      "run_n is 5\n"
     ]
    }
   ],
   "source": [
    "args=parse_args()\n",
    "train_df, test_dfs = data_loader(args)"
   ]
  },
  {
   "cell_type": "code",
   "execution_count": 67,
   "metadata": {},
   "outputs": [],
   "source": [
    "model = ConfidenceEnhancedLinearSVC()\n",
    "num_classes = 2\n",
    "clf = SklearnClassifier(model, num_classes)"
   ]
  },
  {
   "cell_type": "code",
   "execution_count": 68,
   "metadata": {},
   "outputs": [
    {
     "name": "stderr",
     "output_type": "stream",
     "text": [
      "/Users/raymond/Projects/playground/CAL_sim/SklearnDatasetWeakMod.py:45: UserWarning: Passing target_labels=None is discouraged as it can lead to unintended results in combination with indexing and cloning. Moreover, explicit target labels might be required in the next major version.\n",
      "  warnings.warn('Passing target_labels=None is discouraged as it can lead to '\n",
      "/Users/raymond/anaconda3/envs/sim/lib/python3.11/site-packages/small_text/data/datasets.py:36: UserWarning: Passing target_labels=None is discouraged as it can lead to unintended results in combination with indexing and cloning. Moreover, explicit target labels might be required in the next major version.\n",
      "  warnings.warn('Passing target_labels=None is discouraged as it can lead to '\n"
     ]
    }
   ],
   "source": [
    "train_dict = df_to_dict('train', train_df)\n",
    "# print(train_df.head())\n",
    "train, vectorizer = preprocess_data_sklearn_train(train_dict['data'],\n",
    "                                                      train_dict['target'],\n",
    "                                                      train_dict['weak_target'])\n",
    "test_sets = {}\n",
    "matching_indexes = {}\n",
    "for j in test_dfs.keys():\n",
    "    matching_indexes[j] = test_dfs[j].index.tolist()\n",
    "    data_dict = df_to_dict('test', test_dfs[j])\n",
    "    processed_data = preprocess_data_sklearn_test(data_dict['data'],\n",
    "                                                    data_dict['target'],\n",
    "                                                    vectorizer)\n",
    "    test_sets[j] = processed_data"
   ]
  },
  {
   "cell_type": "code",
   "execution_count": 24,
   "metadata": {},
   "outputs": [
    {
     "data": {
      "text/plain": [
       "{'test_base': <small_text.data.datasets.SklearnDataset at 0x17f5b3790>,\n",
       " 'test_50': <small_text.data.datasets.SklearnDataset at 0x280a96950>,\n",
       " 'test_10': <small_text.data.datasets.SklearnDataset at 0x2835b83d0>,\n",
       " 'test_5': <small_text.data.datasets.SklearnDataset at 0x106af7250>}"
      ]
     },
     "execution_count": 24,
     "metadata": {},
     "output_type": "execute_result"
    }
   ],
   "source": [
    "test_sets"
   ]
  },
  {
   "cell_type": "code",
   "execution_count": 74,
   "metadata": {},
   "outputs": [
    {
     "name": "stdout",
     "output_type": "stream",
     "text": [
      "----RUN 0: SL LEARNER----\n"
     ]
    },
    {
     "name": "stderr",
     "output_type": "stream",
     "text": [
      "/Users/raymond/anaconda3/envs/sim/lib/python3.11/site-packages/small_text/data/datasets.py:36: UserWarning: Passing target_labels=None is discouraged as it can lead to unintended results in combination with indexing and cloning. Moreover, explicit target labels might be required in the next major version.\n",
      "  warnings.warn('Passing target_labels=None is discouraged as it can lead to '\n",
      "/Users/raymond/anaconda3/envs/sim/lib/python3.11/site-packages/sklearn/svm/_classes.py:32: FutureWarning: The default value of `dual` will change from `True` to `'auto'` in 1.5. Set the value of `dual` explicitly to suppress the warning.\n",
      "  warnings.warn(\n"
     ]
    },
    {
     "data": {
      "text/plain": [
       "<small_text.classifiers.classification.SklearnClassifier at 0x283ab6c50>"
      ]
     },
     "execution_count": 74,
     "metadata": {},
     "output_type": "execute_result"
    }
   ],
   "source": [
    "results_dict = {}\n",
    "predictions_dict = {}\n",
    "# Run experiment n times\n",
    "# for run in range(args.run_n):\n",
    "run = 0\n",
    "seed_value = run\n",
    "random.seed(seed_value)\n",
    "np.random.seed(seed_value)\n",
    "print(f'----RUN {run}: {args.method} LEARNER----')\n",
    "\n",
    "indices_neg_label = np.where(train.y == 0)[0]\n",
    "indices_pos_label = np.where(train.y == 1)[0]\n",
    "\n",
    "# remove and check\n",
    "# all_indices = np.concatenate([indices_neg_label, indices_pos_label])\n",
    "# np.random.shuffle(all_indices)\n",
    "# \n",
    "\n",
    "# x_indices_initial = all_indices.astype(int)\n",
    "# y_initial = np.array([train.y[i] for i in x_indices_initial])\n",
    "# print(f'Starting imbalance: {np.round(np.mean(y_initial),2)}')\n",
    "# val_indices = None\n",
    "\n",
    "train_set = SklearnDataset(train.x, train.y)\n",
    "clf.fit(train_set)\n",
    "\n",
    "\n"
   ]
  },
  {
   "cell_type": "code",
   "execution_count": 78,
   "metadata": {},
   "outputs": [
    {
     "data": {
      "text/plain": [
       "0.9872499563629756"
      ]
     },
     "execution_count": 78,
     "metadata": {},
     "output_type": "execute_result"
    }
   ],
   "source": [
    "y_train_pred = clf.predict(train_set)\n",
    "train_score = f1_score(train.y, y_train_pred, average='macro', zero_division = 0)\n",
    "train_score"
   ]
  },
  {
   "cell_type": "code",
   "execution_count": 80,
   "metadata": {},
   "outputs": [
    {
     "name": "stdout",
     "output_type": "stream",
     "text": [
      "test_base: 0.7754274721554835\n",
      "test_50: 0.8752674392237094\n",
      "test_10: 0.7878238532233632\n",
      "test_5: 0.7065843471364379\n"
     ]
    },
    {
     "name": "stderr",
     "output_type": "stream",
     "text": [
      "/Users/raymond/anaconda3/envs/sim/lib/python3.11/site-packages/small_text/data/datasets.py:36: UserWarning: Passing target_labels=None is discouraged as it can lead to unintended results in combination with indexing and cloning. Moreover, explicit target labels might be required in the next major version.\n",
      "  warnings.warn('Passing target_labels=None is discouraged as it can lead to '\n",
      "/Users/raymond/anaconda3/envs/sim/lib/python3.11/site-packages/small_text/data/datasets.py:36: UserWarning: Passing target_labels=None is discouraged as it can lead to unintended results in combination with indexing and cloning. Moreover, explicit target labels might be required in the next major version.\n",
      "  warnings.warn('Passing target_labels=None is discouraged as it can lead to '\n",
      "/Users/raymond/anaconda3/envs/sim/lib/python3.11/site-packages/small_text/data/datasets.py:36: UserWarning: Passing target_labels=None is discouraged as it can lead to unintended results in combination with indexing and cloning. Moreover, explicit target labels might be required in the next major version.\n",
      "  warnings.warn('Passing target_labels=None is discouraged as it can lead to '\n",
      "/Users/raymond/anaconda3/envs/sim/lib/python3.11/site-packages/small_text/data/datasets.py:36: UserWarning: Passing target_labels=None is discouraged as it can lead to unintended results in combination with indexing and cloning. Moreover, explicit target labels might be required in the next major version.\n",
      "  warnings.warn('Passing target_labels=None is discouraged as it can lead to '\n"
     ]
    }
   ],
   "source": [
    "for k, v in test_sets.items():\n",
    "    test_set = SklearnDataset(v.x, v.y)\n",
    "    y_test_pred = clf.predict(test_set)\n",
    "    test_score = f1_score(v.y, y_test_pred, average='macro', zero_division = 0)\n",
    "    print(f'{k}: {test_score}')"
   ]
  },
  {
   "cell_type": "code",
   "execution_count": 79,
   "metadata": {},
   "outputs": [
    {
     "data": {
      "text/plain": [
       "{'test_base': <small_text.data.datasets.SklearnDataset at 0x283c9ac50>,\n",
       " 'test_50': <small_text.data.datasets.SklearnDataset at 0x2839f0e10>,\n",
       " 'test_10': <small_text.data.datasets.SklearnDataset at 0x283830d90>,\n",
       " 'test_5': <small_text.data.datasets.SklearnDataset at 0x155204a10>}"
      ]
     },
     "execution_count": 79,
     "metadata": {},
     "output_type": "execute_result"
    }
   ],
   "source": [
    "test_sets"
   ]
  },
  {
   "cell_type": "code",
   "execution_count": 58,
   "metadata": {},
   "outputs": [
    {
     "data": {
      "text/plain": [
       "text                 ` Who moved the section on ``public support`` ...\n",
       "label                                                                0\n",
       "matches                                                             []\n",
       "len_matches                                                          0\n",
       "len_text                                                            22\n",
       "norm_kw                                                            0.0\n",
       "weak_pos_keywords                                                    0\n",
       "Name: 78160832, dtype: object"
      ]
     },
     "execution_count": 58,
     "metadata": {},
     "output_type": "execute_result"
    }
   ],
   "source": [
    "train_df.iloc[10079]"
   ]
  }
 ],
 "metadata": {
  "kernelspec": {
   "display_name": "sim",
   "language": "python",
   "name": "python3"
  },
  "language_info": {
   "codemirror_mode": {
    "name": "ipython",
    "version": 3
   },
   "file_extension": ".py",
   "mimetype": "text/x-python",
   "name": "python",
   "nbconvert_exporter": "python",
   "pygments_lexer": "ipython3",
   "version": "3.11.7"
  }
 },
 "nbformat": 4,
 "nbformat_minor": 2
}
